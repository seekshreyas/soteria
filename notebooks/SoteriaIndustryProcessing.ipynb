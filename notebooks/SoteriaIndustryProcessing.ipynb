{
 "metadata": {
  "name": ""
 },
 "nbformat": 3,
 "nbformat_minor": 0,
 "worksheets": [
  {
   "cells": [
    {
     "cell_type": "code",
     "collapsed": false,
     "input": [
      "import csv\n",
      "\n",
      "def main():\n",
      "    industry_index = 0\n",
      "    industry_code = {}\n",
      "    naics_file = \"C:\\\\Users\\\\Ashley\\\\Desktop\\\\2-digit_2012_Codes.csv\"\n",
      "    preprocess_file = \"C:\\\\Users\\\\Ashley\\\\Desktop\\\\vcdb_preprocessed.csv\"\n",
      "    preprocessed_file = \"C:\\\\Users\\\\Ashley\\\\Desktop\\\\vcdb_industry_processed.csv\"\n",
      "    \n",
      "    with open(naics_file, \"rb\") as csv_file:\n",
      "        reader = csv.reader(csv_file)\n",
      "        header = reader.next()\n",
      "        \n",
      "        for row in reader:\n",
      "            industry_code[row[1]] = row[2]\n",
      "    \n",
      "    with open(preprocess_file, \"rb\") as csv_file:\n",
      "        reader = csv.reader(csv_file)\n",
      "        header = reader.next()\n",
      "        \n",
      "        for i in range(len(header)):\n",
      "            if header[i] == \"victim.industry\":\n",
      "                industry_index = i\n",
      "                break\n",
      "            \n",
      "        with open(preprocessed_file, \"wb\") as new_csv_file:\n",
      "            writer = csv.writer(new_csv_file)\n",
      "            writer.writerow(header)\n",
      "            for row in reader:\n",
      "                if row[industry_index] in industry_code:\n",
      "                    row[industry_index] = industry_code[row[industry_index]]\n",
      "                else:\n",
      "                    row[industry_index] = None\n",
      "                writer.writerow(row)\n",
      "\n",
      "if __name__ == \"__main__\":\n",
      "    try:\n",
      "        main()\n",
      "    except Exception as e:\n",
      "        print 'Something went wrong ', e"
     ],
     "language": "python",
     "metadata": {},
     "outputs": [],
     "prompt_number": 1
    },
    {
     "cell_type": "code",
     "collapsed": false,
     "input": [],
     "language": "python",
     "metadata": {},
     "outputs": []
    }
   ],
   "metadata": {}
  }
 ]
}