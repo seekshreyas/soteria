{
 "metadata": {
  "name": "",
  "signature": "sha256:2a25aa0f4a98092baceb3eae41b08033459bc4ca72299d5e9a4cac612c5086aa"
 },
 "nbformat": 3,
 "nbformat_minor": 0,
 "worksheets": [
  {
   "cells": [
    {
     "cell_type": "code",
     "collapsed": false,
     "input": [
      "%pylab --no-import-all inline\n",
      "%matplotlib inline "
     ],
     "language": "python",
     "metadata": {},
     "outputs": [
      {
       "output_type": "stream",
       "stream": "stdout",
       "text": [
        "Populating the interactive namespace from numpy and matplotlib\n"
       ]
      }
     ],
     "prompt_number": 2
    },
    {
     "cell_type": "code",
     "collapsed": false,
     "input": [
      "from __future__ import division\n",
      "import pandas as pd\n",
      "import numpy as np\n",
      "import csv"
     ],
     "language": "python",
     "metadata": {},
     "outputs": [],
     "prompt_number": 3
    },
    {
     "cell_type": "code",
     "collapsed": false,
     "input": [
      "def main():\n",
      "    markdown_file = \"../similar_attacks.md\"\n",
      "    preprocessed_file = \"../data/vcdb_fully_processed.csv\"\n",
      "    output_file = \"../data/vcdb_similarity_comparison.csv\"\n",
      "    relevant_attributes = [\"incident_id\",\"industry.categories\"]\n",
      "    \n",
      "\n",
      "    with open(markdown_file, \"rb\") as md_file:\n",
      "        for i in md_file:\n",
      "            if len(i)<10:\n",
      "                pass\n",
      "            else:\n",
      "                first_id = i[2:38]\n",
      "                second_id = i[43:78]\n",
      "                #print first_id +\", \"+ second_id\n",
      "                \n",
      "        with open(preprocessed_file, \"rb\") as csv_file:\n",
      "            reader = csv.reader(csv_file)\n",
      "            headers = reader.next()\n",
      "            relevant_attributes_index = []\n",
      "                \n",
      "            with open(output_file, \"wb\") as new_csv_file:\n",
      "                wrtr = csv.writer(new_csv_file)\n",
      "\n",
      "                for i in range(len(headers)):\n",
      "                    if headers[i] in relevant_attributes:\n",
      "                        relevant_attributes_index.append(i)\n",
      "                for row in reader:\n",
      "                    for i in range(len(relevant_attributes_index)):\n",
      "                        if first_id in relevant_attributes_index[i]:\n",
      "                            print first_id\n",
      "\n",
      "                        \n",
      "    \n",
      "            \n",
      "if __name__ == \"__main__\":\n",
      "    try:\n",
      "        main()\n",
      "    except Exception as e:\n",
      "        print 'Something went wrong ', e"
     ],
     "language": "python",
     "metadata": {},
     "outputs": [
      {
       "output_type": "stream",
       "stream": "stdout",
       "text": [
        "Something went wrong  argument of type 'int' is not iterable\n"
       ]
      }
     ],
     "prompt_number": 6
    },
    {
     "cell_type": "code",
     "collapsed": false,
     "input": [],
     "language": "python",
     "metadata": {},
     "outputs": []
    }
   ],
   "metadata": {}
  }
 ]
}